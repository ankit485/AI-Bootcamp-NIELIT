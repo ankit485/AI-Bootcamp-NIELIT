{
  "nbformat": 4,
  "nbformat_minor": 0,
  "metadata": {
    "colab": {
      "provenance": []
    },
    "kernelspec": {
      "name": "python3",
      "display_name": "Python 3"
    },
    "language_info": {
      "name": "python"
    }
  },
  "cells": [
    {
      "cell_type": "code",
      "execution_count": null,
      "metadata": {
        "colab": {
          "base_uri": "https://localhost:8080/"
        },
        "id": "WGxLCuTPdQvL",
        "outputId": "51876452-a15a-4772-f000-cbfc98583150"
      },
      "outputs": [
        {
          "output_type": "stream",
          "name": "stdout",
          "text": [
            "enter first number1\n",
            "enter second number2\n",
            "Multplication of the two number is 2\n"
          ]
        }
      ],
      "source": [
        "a=int(input(\"enter first number\"))\n",
        "b=int(input(\"enter second number\"))\n",
        "c=a*b\n",
        "print(\"Multplication of the two number is\",c)"
      ]
    },
    {
      "cell_type": "code",
      "source": [
        "a=float(input(\"enter first number\"))\n",
        "b=float(input(\"enter second number\"))\n",
        "c=a*b\n",
        "print(\"multiplication of the two number is\",c)"
      ],
      "metadata": {
        "colab": {
          "base_uri": "https://localhost:8080/"
        },
        "id": "FuPg8zy1eg2n",
        "outputId": "27097361-f018-4e54-a5af-efb1d12d9379"
      },
      "execution_count": null,
      "outputs": [
        {
          "output_type": "stream",
          "name": "stdout",
          "text": [
            "enter first number4\n",
            "enter second number6\n",
            "multiplication of the two number is 24.0\n"
          ]
        }
      ]
    }
  ]
}