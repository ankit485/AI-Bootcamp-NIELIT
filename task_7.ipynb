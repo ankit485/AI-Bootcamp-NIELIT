{
  "nbformat": 4,
  "nbformat_minor": 0,
  "metadata": {
    "colab": {
      "provenance": []
    },
    "kernelspec": {
      "name": "python3",
      "display_name": "Python 3"
    },
    "language_info": {
      "name": "python"
    }
  },
  "cells": [
    {
      "cell_type": "code",
      "execution_count": 1,
      "metadata": {
        "colab": {
          "base_uri": "https://localhost:8080/"
        },
        "id": "FWhdc3a35bmn",
        "outputId": "77d7b9c2-fba0-4d6f-b44a-dc66fee55f4f"
      },
      "outputs": [
        {
          "output_type": "stream",
          "name": "stdout",
          "text": [
            "   Year Industry_aggregation_NZSIOC Industry_code_NZSIOC Industry_name_NZSIOC  \\\n",
            "0  2023                     Level 1                99999       All industries   \n",
            "1  2023                     Level 1                99999       All industries   \n",
            "2  2023                     Level 1                99999       All industries   \n",
            "3  2023                     Level 1                99999       All industries   \n",
            "4  2023                     Level 1                99999       All industries   \n",
            "\n",
            "                Units Variable_code  \\\n",
            "0  Dollars (millions)           H01   \n",
            "1  Dollars (millions)           H04   \n",
            "2  Dollars (millions)           H05   \n",
            "3  Dollars (millions)           H07   \n",
            "4  Dollars (millions)           H08   \n",
            "\n",
            "                                     Variable_name      Variable_category  \\\n",
            "0                                     Total income  Financial performance   \n",
            "1  Sales, government funding, grants and subsidies  Financial performance   \n",
            "2                Interest, dividends and donations  Financial performance   \n",
            "3                             Non-operating income  Financial performance   \n",
            "4                                Total expenditure  Financial performance   \n",
            "\n",
            "    Value                             Industry_code_ANZSIC06  \n",
            "0  930995  ANZSIC06 divisions A-S (excluding classes K633...  \n",
            "1  821630  ANZSIC06 divisions A-S (excluding classes K633...  \n",
            "2   84354  ANZSIC06 divisions A-S (excluding classes K633...  \n",
            "3   25010  ANZSIC06 divisions A-S (excluding classes K633...  \n",
            "4  832964  ANZSIC06 divisions A-S (excluding classes K633...  \n",
            "<class 'pandas.core.frame.DataFrame'>\n",
            "RangeIndex: 50985 entries, 0 to 50984\n",
            "Data columns (total 10 columns):\n",
            " #   Column                       Non-Null Count  Dtype \n",
            "---  ------                       --------------  ----- \n",
            " 0   Year                         50985 non-null  int64 \n",
            " 1   Industry_aggregation_NZSIOC  50985 non-null  object\n",
            " 2   Industry_code_NZSIOC         50985 non-null  object\n",
            " 3   Industry_name_NZSIOC         50985 non-null  object\n",
            " 4   Units                        50985 non-null  object\n",
            " 5   Variable_code                50985 non-null  object\n",
            " 6   Variable_name                50985 non-null  object\n",
            " 7   Variable_category            50985 non-null  object\n",
            " 8   Value                        50985 non-null  object\n",
            " 9   Industry_code_ANZSIC06       50985 non-null  object\n",
            "dtypes: int64(1), object(9)\n",
            "memory usage: 3.9+ MB\n",
            "None\n",
            "               Year\n",
            "count  50985.000000\n",
            "mean    2018.000000\n",
            "std        3.162309\n",
            "min     2013.000000\n",
            "25%     2015.000000\n",
            "50%     2018.000000\n",
            "75%     2021.000000\n",
            "max     2023.000000\n"
          ]
        }
      ],
      "source": [
        "import pandas as pd\n",
        "#load dataset\n",
        "df=pd.read_csv(\"/content/annual-enterprise-survey-2023-financial-year-provisional.csv\")\n",
        "# basic exploration\n",
        "print(df.head())\n",
        "print(df.info())\n",
        "print(df.describe())"
      ]
    }
  ]
}