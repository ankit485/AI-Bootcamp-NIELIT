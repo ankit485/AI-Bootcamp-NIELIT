{
  "nbformat": 4,
  "nbformat_minor": 0,
  "metadata": {
    "colab": {
      "provenance": []
    },
    "kernelspec": {
      "name": "python3",
      "display_name": "Python 3"
    },
    "language_info": {
      "name": "python"
    }
  },
  "cells": [
    {
      "cell_type": "code",
      "execution_count": 1,
      "metadata": {
        "id": "NV3eeDVM2lwA",
        "colab": {
          "base_uri": "https://localhost:8080/"
        },
        "outputId": "15e3afba-0097-4d13-bc92-55f88a7520e7"
      },
      "outputs": [
        {
          "output_type": "stream",
          "name": "stdout",
          "text": [
            "       Year Industry_aggregation_NZSIOC Industry_code_NZSIOC  \\\n",
            "0      2023                     Level 1                99999   \n",
            "1      2023                     Level 1                99999   \n",
            "2      2023                     Level 1                99999   \n",
            "3      2023                     Level 1                99999   \n",
            "4      2023                     Level 1                99999   \n",
            "...     ...                         ...                  ...   \n",
            "50980  2013                     Level 3                 ZZ11   \n",
            "50981  2013                     Level 3                 ZZ11   \n",
            "50982  2013                     Level 3                 ZZ11   \n",
            "50983  2013                     Level 3                 ZZ11   \n",
            "50984  2013                     Level 3                 ZZ11   \n",
            "\n",
            "             Industry_name_NZSIOC               Units Variable_code  \\\n",
            "0                  All industries  Dollars (millions)           H01   \n",
            "1                  All industries  Dollars (millions)           H04   \n",
            "2                  All industries  Dollars (millions)           H05   \n",
            "3                  All industries  Dollars (millions)           H07   \n",
            "4                  All industries  Dollars (millions)           H08   \n",
            "...                           ...                 ...           ...   \n",
            "50980  Food product manufacturing          Percentage           H37   \n",
            "50981  Food product manufacturing          Percentage           H38   \n",
            "50982  Food product manufacturing          Percentage           H39   \n",
            "50983  Food product manufacturing          Percentage           H40   \n",
            "50984  Food product manufacturing          Percentage           H41   \n",
            "\n",
            "                                         Variable_name      Variable_category  \\\n",
            "0                                         Total income  Financial performance   \n",
            "1      Sales, government funding, grants and subsidies  Financial performance   \n",
            "2                    Interest, dividends and donations  Financial performance   \n",
            "3                                 Non-operating income  Financial performance   \n",
            "4                                    Total expenditure  Financial performance   \n",
            "...                                                ...                    ...   \n",
            "50980                                      Quick ratio       Financial ratios   \n",
            "50981              Margin on sales of goods for resale       Financial ratios   \n",
            "50982                                 Return on equity       Financial ratios   \n",
            "50983                           Return on total assets       Financial ratios   \n",
            "50984                            Liabilities structure       Financial ratios   \n",
            "\n",
            "        Value                             Industry_code_ANZSIC06  \n",
            "0      930995  ANZSIC06 divisions A-S (excluding classes K633...  \n",
            "1      821630  ANZSIC06 divisions A-S (excluding classes K633...  \n",
            "2       84354  ANZSIC06 divisions A-S (excluding classes K633...  \n",
            "3       25010  ANZSIC06 divisions A-S (excluding classes K633...  \n",
            "4      832964  ANZSIC06 divisions A-S (excluding classes K633...  \n",
            "...       ...                                                ...  \n",
            "50980      52  ANZSIC06 groups C111, C112, C113, C114, C115, ...  \n",
            "50981      40  ANZSIC06 groups C111, C112, C113, C114, C115, ...  \n",
            "50982      12  ANZSIC06 groups C111, C112, C113, C114, C115, ...  \n",
            "50983       5  ANZSIC06 groups C111, C112, C113, C114, C115, ...  \n",
            "50984      46  ANZSIC06 groups C111, C112, C113, C114, C115, ...  \n",
            "\n",
            "[50985 rows x 10 columns]\n"
          ]
        }
      ],
      "source": [
        "import pandas as pd\n",
        "#read data from a csv file\n",
        "df_csv=pd.read_csv('/annual-enterprise-survey-2023-financial-year-provisional.csv')\n",
        "#print the dataframe\n",
        "print(df_csv)"
      ]
    }
  ]
}