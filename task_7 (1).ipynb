{
  "nbformat": 4,
  "nbformat_minor": 0,
  "metadata": {
    "colab": {
      "provenance": []
    },
    "kernelspec": {
      "name": "python3",
      "display_name": "Python 3"
    },
    "language_info": {
      "name": "python"
    }
  },
  "cells": [
    {
      "cell_type": "code",
      "source": [
        "import tensorflow as tf\n",
        "from tensorflow import keras\n",
        "from tensorflow.keras import layers\n",
        "from tensorflow.keras.datasets import mnist\n",
        "\n",
        "# define the model\n",
        "model = keras.Sequential(\n",
        "    [\n",
        "        # Add a Flatten layer to convert 28x28 images to a 1D array (784)\n",
        "        layers.Flatten(input_shape=(28, 28)),\n",
        "        layers.Dense(2, activation=\"relu\", name=\"layer1\"),\n",
        "        layers.Dense(3, activation=\"relu\", name=\"layer2\"),\n",
        "        # Change the output layer to have 10 units to match the 10 classes in MNIST\n",
        "        layers.Dense(10, name=\"layer3\"),\n",
        "    ]\n",
        ")\n",
        "\n",
        "# compile the model\n",
        "model.compile(\n",
        "    loss=keras.losses.SparseCategoricalCrossentropy(from_logits=True),\n",
        "    optimizer=keras.optimizers.SGD(learning_rate=0.001),\n",
        "    metrics=[\"accuracy\"],\n",
        ")\n",
        "\n",
        "#load the dataset\n",
        "(x_train, y_train), (x_test, y_test) = mnist.load_data()\n",
        "\n",
        "# train the model\n",
        "model.fit(x_train, y_train, batch_size=32, epochs=2, verbose=2)\n",
        "\n",
        "# evaluate the model\n",
        "model.evaluate(x_test, y_test, batch_size=32, verbose=2)\n",
        "\n",
        "# evaluate the model\n",
        "model.predict(x_test)"
      ],
      "metadata": {
        "colab": {
          "base_uri": "https://localhost:8080/"
        },
        "id": "0LPLPV55ccdW",
        "outputId": "6576b6c5-9f03-4c8a-aaa8-143834576091"
      },
      "execution_count": 6,
      "outputs": [
        {
          "output_type": "stream",
          "name": "stderr",
          "text": [
            "/usr/local/lib/python3.11/dist-packages/keras/src/layers/reshaping/flatten.py:37: UserWarning: Do not pass an `input_shape`/`input_dim` argument to a layer. When using Sequential models, prefer using an `Input(shape)` object as the first layer in the model instead.\n",
            "  super().__init__(**kwargs)\n"
          ]
        },
        {
          "output_type": "stream",
          "name": "stdout",
          "text": [
            "Epoch 1/2\n",
            "1875/1875 - 3s - 2ms/step - accuracy: 0.1119 - loss: 2.3409\n",
            "Epoch 2/2\n",
            "1875/1875 - 5s - 3ms/step - accuracy: 0.1124 - loss: 2.3020\n",
            "313/313 - 1s - 2ms/step - accuracy: 0.1135 - loss: 2.3018\n",
            "\u001b[1m313/313\u001b[0m \u001b[32m━━━━━━━━━━━━━━━━━━━━\u001b[0m\u001b[37m\u001b[0m \u001b[1m0s\u001b[0m 1ms/step\n"
          ]
        },
        {
          "output_type": "execute_result",
          "data": {
            "text/plain": [
              "array([[-0.00408122,  0.03883611, -0.00209595, ...,  0.01418856,\n",
              "        -0.00771056, -0.00264765],\n",
              "       [-0.00408122,  0.03883611, -0.00209595, ...,  0.01418856,\n",
              "        -0.00771056, -0.00264765],\n",
              "       [-0.00408122,  0.03883611, -0.00209595, ...,  0.01418856,\n",
              "        -0.00771056, -0.00264765],\n",
              "       ...,\n",
              "       [-0.00408122,  0.03883611, -0.00209595, ...,  0.01418856,\n",
              "        -0.00771056, -0.00264765],\n",
              "       [-0.00408122,  0.03883611, -0.00209595, ...,  0.01418856,\n",
              "        -0.00771056, -0.00264765],\n",
              "       [-0.00408122,  0.03883611, -0.00209595, ...,  0.01418856,\n",
              "        -0.00771056, -0.00264765]], dtype=float32)"
            ]
          },
          "metadata": {},
          "execution_count": 6
        }
      ]
    }
  ]
}